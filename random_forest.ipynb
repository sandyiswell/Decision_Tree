{
 "cells": [
  {
   "cell_type": "code",
   "execution_count": 261,
   "metadata": {},
   "outputs": [],
   "source": [
    "# initially we are going to do some exploratory data analysis."
   ]
  },
  {
   "cell_type": "code",
   "execution_count": 146,
   "metadata": {},
   "outputs": [],
   "source": [
    "import pandas as pd\n",
    "import numpy as np\n",
    "from sklearn import metrics\n",
    "from sklearn.ensemble import RandomForestClassifier"
   ]
  },
  {
   "cell_type": "code",
   "execution_count": 202,
   "metadata": {},
   "outputs": [],
   "source": [
    "ts = pd.read_csv(\"D:/R_practice/s3_assignments/1/pml-testing.csv\")#,usecols = ['num_window','roll_belt','pitch_belt','yaw_belt','total_accel_belt','magnet_belt_x','magnet_belt_y','magnet_belt_z'])"
   ]
  },
  {
   "cell_type": "code",
   "execution_count": 203,
   "metadata": {},
   "outputs": [
    {
     "name": "stderr",
     "output_type": "stream",
     "text": [
      "C:\\Users\\sandeep\\Anaconda3\\lib\\site-packages\\IPython\\core\\interactiveshell.py:2785: DtypeWarning: Columns (11,14,19,22,25,70,73,86,87,89,90,94,97,100) have mixed types. Specify dtype option on import or set low_memory=False.\n",
      "  interactivity=interactivity, compiler=compiler, result=result)\n"
     ]
    }
   ],
   "source": [
    "tr = pd.read_csv(\"D:/R_practice/s3_assignments/1/pml-training.csv\")#,usecols = ['num_window','roll_belt','pitch_belt','yaw_belt','total_accel_belt','magnet_belt_x','magnet_belt_y','magnet_belt_z','classe'])"
   ]
  },
  {
   "cell_type": "code",
   "execution_count": 204,
   "metadata": {},
   "outputs": [
    {
     "data": {
      "text/plain": [
       "Unnamed: 0                 False\n",
       "user_name                   True\n",
       "raw_timestamp_part_1       False\n",
       "raw_timestamp_part_2       False\n",
       "cvtd_timestamp              True\n",
       "new_window                  True\n",
       "num_window                 False\n",
       "roll_belt                  False\n",
       "pitch_belt                 False\n",
       "yaw_belt                   False\n",
       "total_accel_belt           False\n",
       "kurtosis_roll_belt         False\n",
       "kurtosis_picth_belt        False\n",
       "kurtosis_yaw_belt          False\n",
       "skewness_roll_belt         False\n",
       "skewness_roll_belt.1       False\n",
       "skewness_yaw_belt          False\n",
       "max_roll_belt              False\n",
       "max_picth_belt             False\n",
       "max_yaw_belt               False\n",
       "min_roll_belt              False\n",
       "min_pitch_belt             False\n",
       "min_yaw_belt               False\n",
       "amplitude_roll_belt        False\n",
       "amplitude_pitch_belt       False\n",
       "amplitude_yaw_belt         False\n",
       "var_total_accel_belt       False\n",
       "avg_roll_belt              False\n",
       "stddev_roll_belt           False\n",
       "var_roll_belt              False\n",
       "                           ...  \n",
       "max_roll_forearm           False\n",
       "max_picth_forearm          False\n",
       "max_yaw_forearm            False\n",
       "min_roll_forearm           False\n",
       "min_pitch_forearm          False\n",
       "min_yaw_forearm            False\n",
       "amplitude_roll_forearm     False\n",
       "amplitude_pitch_forearm    False\n",
       "amplitude_yaw_forearm      False\n",
       "total_accel_forearm        False\n",
       "var_accel_forearm          False\n",
       "avg_roll_forearm           False\n",
       "stddev_roll_forearm        False\n",
       "var_roll_forearm           False\n",
       "avg_pitch_forearm          False\n",
       "stddev_pitch_forearm       False\n",
       "var_pitch_forearm          False\n",
       "avg_yaw_forearm            False\n",
       "stddev_yaw_forearm         False\n",
       "var_yaw_forearm            False\n",
       "gyros_forearm_x            False\n",
       "gyros_forearm_y            False\n",
       "gyros_forearm_z            False\n",
       "accel_forearm_x            False\n",
       "accel_forearm_y            False\n",
       "accel_forearm_z            False\n",
       "magnet_forearm_x           False\n",
       "magnet_forearm_y           False\n",
       "magnet_forearm_z           False\n",
       "problem_id                 False\n",
       "Length: 160, dtype: bool"
      ]
     },
     "execution_count": 204,
     "metadata": {},
     "output_type": "execute_result"
    }
   ],
   "source": [
    "ts.dtypes=='object'"
   ]
  },
  {
   "cell_type": "code",
   "execution_count": null,
   "metadata": {},
   "outputs": [],
   "source": [
    "# we are removing all columns of object dtypes, timestamps and problem_id from the test dataset.  "
   ]
  },
  {
   "cell_type": "code",
   "execution_count": 221,
   "metadata": {},
   "outputs": [],
   "source": [
    "ts = pd.read_csv(\"D:/R_practice/s3_assignments/1/pml-testing.csv\",usecols = ['num_window','roll_belt','pitch_belt','yaw_belt','total_accel_belt','gyros_belt_x','gyros_belt_y','gyros_belt_z','accel_belt_x','accel_belt_y','accel_belt_z','magnet_belt_x','magnet_belt_y','magnet_belt_z','roll_arm','pitch_arm','yaw_arm','total_accel_arm','gyros_arm_x','gyros_arm_y','gyros_arm_z','accel_arm_x','accel_arm_y','accel_arm_z','magnet_arm_x','magnet_arm_y','magnet_arm_z','roll_dumbbell','pitch_dumbbell','yaw_dumbbell','total_accel_dumbbell','gyros_dumbbell_x','gyros_dumbbell_y','gyros_dumbbell_z','accel_dumbbell_x','accel_dumbbell_y','accel_dumbbell_z','magnet_dumbbell_x','magnet_dumbbell_y','magnet_dumbbell_z','roll_forearm','pitch_forearm','yaw_forearm','total_accel_forearm','gyros_forearm_y','gyros_forearm_z','accel_forearm_x','accel_forearm_y','accel_forearm_z','magnet_forearm_x','magnet_forearm_y','magnet_forearm_z'])"
   ]
  },
  {
   "cell_type": "code",
   "execution_count": 206,
   "metadata": {},
   "outputs": [],
   "source": [
    "# doing similar manipulation in train dataset too."
   ]
  },
  {
   "cell_type": "code",
   "execution_count": 222,
   "metadata": {},
   "outputs": [],
   "source": [
    "tr = pd.read_csv(\"D:/R_practice/s3_assignments/1/pml-training.csv\",usecols = ['num_window','roll_belt','pitch_belt','yaw_belt','total_accel_belt','gyros_belt_x','gyros_belt_y','gyros_belt_z','accel_belt_x','accel_belt_y','accel_belt_z','magnet_belt_x','magnet_belt_y','magnet_belt_z','roll_arm','pitch_arm','yaw_arm','total_accel_arm','gyros_arm_x','gyros_arm_y','gyros_arm_z','accel_arm_x','accel_arm_y','accel_arm_z','magnet_arm_x','magnet_arm_y','magnet_arm_z','roll_dumbbell','pitch_dumbbell','yaw_dumbbell','total_accel_dumbbell','gyros_dumbbell_x','gyros_dumbbell_y','gyros_dumbbell_z','accel_dumbbell_x','accel_dumbbell_y','accel_dumbbell_z','magnet_dumbbell_x','magnet_dumbbell_y','magnet_dumbbell_z','roll_forearm','pitch_forearm','yaw_forearm','total_accel_forearm','gyros_forearm_y','gyros_forearm_z','accel_forearm_x','accel_forearm_y','accel_forearm_z','magnet_forearm_x','magnet_forearm_y','magnet_forearm_z','classe'])"
   ]
  },
  {
   "cell_type": "code",
   "execution_count": 223,
   "metadata": {},
   "outputs": [
    {
     "data": {
      "text/html": [
       "<div>\n",
       "<style scoped>\n",
       "    .dataframe tbody tr th:only-of-type {\n",
       "        vertical-align: middle;\n",
       "    }\n",
       "\n",
       "    .dataframe tbody tr th {\n",
       "        vertical-align: top;\n",
       "    }\n",
       "\n",
       "    .dataframe thead th {\n",
       "        text-align: right;\n",
       "    }\n",
       "</style>\n",
       "<table border=\"1\" class=\"dataframe\">\n",
       "  <thead>\n",
       "    <tr style=\"text-align: right;\">\n",
       "      <th></th>\n",
       "      <th>num_window</th>\n",
       "      <th>roll_belt</th>\n",
       "      <th>pitch_belt</th>\n",
       "      <th>yaw_belt</th>\n",
       "      <th>total_accel_belt</th>\n",
       "      <th>gyros_belt_x</th>\n",
       "      <th>gyros_belt_y</th>\n",
       "      <th>gyros_belt_z</th>\n",
       "      <th>accel_belt_x</th>\n",
       "      <th>accel_belt_y</th>\n",
       "      <th>...</th>\n",
       "      <th>yaw_forearm</th>\n",
       "      <th>total_accel_forearm</th>\n",
       "      <th>gyros_forearm_y</th>\n",
       "      <th>gyros_forearm_z</th>\n",
       "      <th>accel_forearm_x</th>\n",
       "      <th>accel_forearm_y</th>\n",
       "      <th>accel_forearm_z</th>\n",
       "      <th>magnet_forearm_x</th>\n",
       "      <th>magnet_forearm_y</th>\n",
       "      <th>magnet_forearm_z</th>\n",
       "    </tr>\n",
       "  </thead>\n",
       "  <tbody>\n",
       "    <tr>\n",
       "      <th>0</th>\n",
       "      <td>74</td>\n",
       "      <td>123.00</td>\n",
       "      <td>27.00</td>\n",
       "      <td>-4.75</td>\n",
       "      <td>20</td>\n",
       "      <td>-0.50</td>\n",
       "      <td>-0.02</td>\n",
       "      <td>-0.46</td>\n",
       "      <td>-38</td>\n",
       "      <td>69</td>\n",
       "      <td>...</td>\n",
       "      <td>156.0</td>\n",
       "      <td>33</td>\n",
       "      <td>-3.34</td>\n",
       "      <td>-0.59</td>\n",
       "      <td>-110</td>\n",
       "      <td>267</td>\n",
       "      <td>-149</td>\n",
       "      <td>-714</td>\n",
       "      <td>419</td>\n",
       "      <td>617</td>\n",
       "    </tr>\n",
       "    <tr>\n",
       "      <th>1</th>\n",
       "      <td>431</td>\n",
       "      <td>1.02</td>\n",
       "      <td>4.87</td>\n",
       "      <td>-88.90</td>\n",
       "      <td>4</td>\n",
       "      <td>-0.06</td>\n",
       "      <td>-0.02</td>\n",
       "      <td>-0.07</td>\n",
       "      <td>-13</td>\n",
       "      <td>11</td>\n",
       "      <td>...</td>\n",
       "      <td>106.0</td>\n",
       "      <td>39</td>\n",
       "      <td>-2.78</td>\n",
       "      <td>-0.18</td>\n",
       "      <td>212</td>\n",
       "      <td>297</td>\n",
       "      <td>-118</td>\n",
       "      <td>-237</td>\n",
       "      <td>791</td>\n",
       "      <td>873</td>\n",
       "    </tr>\n",
       "    <tr>\n",
       "      <th>2</th>\n",
       "      <td>439</td>\n",
       "      <td>0.87</td>\n",
       "      <td>1.82</td>\n",
       "      <td>-88.50</td>\n",
       "      <td>5</td>\n",
       "      <td>0.05</td>\n",
       "      <td>0.02</td>\n",
       "      <td>0.03</td>\n",
       "      <td>1</td>\n",
       "      <td>-1</td>\n",
       "      <td>...</td>\n",
       "      <td>93.0</td>\n",
       "      <td>34</td>\n",
       "      <td>-0.79</td>\n",
       "      <td>0.28</td>\n",
       "      <td>154</td>\n",
       "      <td>271</td>\n",
       "      <td>-129</td>\n",
       "      <td>-51</td>\n",
       "      <td>698</td>\n",
       "      <td>783</td>\n",
       "    </tr>\n",
       "  </tbody>\n",
       "</table>\n",
       "<p>3 rows × 52 columns</p>\n",
       "</div>"
      ],
      "text/plain": [
       "   num_window  roll_belt  pitch_belt  yaw_belt  total_accel_belt  \\\n",
       "0          74     123.00       27.00     -4.75                20   \n",
       "1         431       1.02        4.87    -88.90                 4   \n",
       "2         439       0.87        1.82    -88.50                 5   \n",
       "\n",
       "   gyros_belt_x  gyros_belt_y  gyros_belt_z  accel_belt_x  accel_belt_y  \\\n",
       "0         -0.50         -0.02         -0.46           -38            69   \n",
       "1         -0.06         -0.02         -0.07           -13            11   \n",
       "2          0.05          0.02          0.03             1            -1   \n",
       "\n",
       "         ...         yaw_forearm  total_accel_forearm  gyros_forearm_y  \\\n",
       "0        ...               156.0                   33            -3.34   \n",
       "1        ...               106.0                   39            -2.78   \n",
       "2        ...                93.0                   34            -0.79   \n",
       "\n",
       "   gyros_forearm_z  accel_forearm_x  accel_forearm_y  accel_forearm_z  \\\n",
       "0            -0.59             -110              267             -149   \n",
       "1            -0.18              212              297             -118   \n",
       "2             0.28              154              271             -129   \n",
       "\n",
       "   magnet_forearm_x  magnet_forearm_y  magnet_forearm_z  \n",
       "0              -714               419               617  \n",
       "1              -237               791               873  \n",
       "2               -51               698               783  \n",
       "\n",
       "[3 rows x 52 columns]"
      ]
     },
     "execution_count": 223,
     "metadata": {},
     "output_type": "execute_result"
    }
   ],
   "source": [
    "ts.head(3)"
   ]
  },
  {
   "cell_type": "code",
   "execution_count": 224,
   "metadata": {},
   "outputs": [
    {
     "data": {
      "text/html": [
       "<div>\n",
       "<style scoped>\n",
       "    .dataframe tbody tr th:only-of-type {\n",
       "        vertical-align: middle;\n",
       "    }\n",
       "\n",
       "    .dataframe tbody tr th {\n",
       "        vertical-align: top;\n",
       "    }\n",
       "\n",
       "    .dataframe thead th {\n",
       "        text-align: right;\n",
       "    }\n",
       "</style>\n",
       "<table border=\"1\" class=\"dataframe\">\n",
       "  <thead>\n",
       "    <tr style=\"text-align: right;\">\n",
       "      <th></th>\n",
       "      <th>num_window</th>\n",
       "      <th>roll_belt</th>\n",
       "      <th>pitch_belt</th>\n",
       "      <th>yaw_belt</th>\n",
       "      <th>total_accel_belt</th>\n",
       "      <th>gyros_belt_x</th>\n",
       "      <th>gyros_belt_y</th>\n",
       "      <th>gyros_belt_z</th>\n",
       "      <th>accel_belt_x</th>\n",
       "      <th>accel_belt_y</th>\n",
       "      <th>...</th>\n",
       "      <th>total_accel_forearm</th>\n",
       "      <th>gyros_forearm_y</th>\n",
       "      <th>gyros_forearm_z</th>\n",
       "      <th>accel_forearm_x</th>\n",
       "      <th>accel_forearm_y</th>\n",
       "      <th>accel_forearm_z</th>\n",
       "      <th>magnet_forearm_x</th>\n",
       "      <th>magnet_forearm_y</th>\n",
       "      <th>magnet_forearm_z</th>\n",
       "      <th>classe</th>\n",
       "    </tr>\n",
       "  </thead>\n",
       "  <tbody>\n",
       "    <tr>\n",
       "      <th>0</th>\n",
       "      <td>11</td>\n",
       "      <td>1.41</td>\n",
       "      <td>8.07</td>\n",
       "      <td>-94.4</td>\n",
       "      <td>3</td>\n",
       "      <td>0.00</td>\n",
       "      <td>0.0</td>\n",
       "      <td>-0.02</td>\n",
       "      <td>-21</td>\n",
       "      <td>4</td>\n",
       "      <td>...</td>\n",
       "      <td>36</td>\n",
       "      <td>0.00</td>\n",
       "      <td>-0.02</td>\n",
       "      <td>192</td>\n",
       "      <td>203</td>\n",
       "      <td>-215</td>\n",
       "      <td>-17</td>\n",
       "      <td>654.0</td>\n",
       "      <td>476.0</td>\n",
       "      <td>A</td>\n",
       "    </tr>\n",
       "    <tr>\n",
       "      <th>1</th>\n",
       "      <td>11</td>\n",
       "      <td>1.41</td>\n",
       "      <td>8.07</td>\n",
       "      <td>-94.4</td>\n",
       "      <td>3</td>\n",
       "      <td>0.02</td>\n",
       "      <td>0.0</td>\n",
       "      <td>-0.02</td>\n",
       "      <td>-22</td>\n",
       "      <td>4</td>\n",
       "      <td>...</td>\n",
       "      <td>36</td>\n",
       "      <td>0.00</td>\n",
       "      <td>-0.02</td>\n",
       "      <td>192</td>\n",
       "      <td>203</td>\n",
       "      <td>-216</td>\n",
       "      <td>-18</td>\n",
       "      <td>661.0</td>\n",
       "      <td>473.0</td>\n",
       "      <td>A</td>\n",
       "    </tr>\n",
       "    <tr>\n",
       "      <th>2</th>\n",
       "      <td>11</td>\n",
       "      <td>1.42</td>\n",
       "      <td>8.07</td>\n",
       "      <td>-94.4</td>\n",
       "      <td>3</td>\n",
       "      <td>0.00</td>\n",
       "      <td>0.0</td>\n",
       "      <td>-0.02</td>\n",
       "      <td>-20</td>\n",
       "      <td>5</td>\n",
       "      <td>...</td>\n",
       "      <td>36</td>\n",
       "      <td>-0.02</td>\n",
       "      <td>0.00</td>\n",
       "      <td>196</td>\n",
       "      <td>204</td>\n",
       "      <td>-213</td>\n",
       "      <td>-18</td>\n",
       "      <td>658.0</td>\n",
       "      <td>469.0</td>\n",
       "      <td>A</td>\n",
       "    </tr>\n",
       "    <tr>\n",
       "      <th>3</th>\n",
       "      <td>12</td>\n",
       "      <td>1.48</td>\n",
       "      <td>8.05</td>\n",
       "      <td>-94.4</td>\n",
       "      <td>3</td>\n",
       "      <td>0.02</td>\n",
       "      <td>0.0</td>\n",
       "      <td>-0.03</td>\n",
       "      <td>-22</td>\n",
       "      <td>3</td>\n",
       "      <td>...</td>\n",
       "      <td>36</td>\n",
       "      <td>-0.02</td>\n",
       "      <td>0.00</td>\n",
       "      <td>189</td>\n",
       "      <td>206</td>\n",
       "      <td>-214</td>\n",
       "      <td>-16</td>\n",
       "      <td>658.0</td>\n",
       "      <td>469.0</td>\n",
       "      <td>A</td>\n",
       "    </tr>\n",
       "  </tbody>\n",
       "</table>\n",
       "<p>4 rows × 53 columns</p>\n",
       "</div>"
      ],
      "text/plain": [
       "   num_window  roll_belt  pitch_belt  yaw_belt  total_accel_belt  \\\n",
       "0          11       1.41        8.07     -94.4                 3   \n",
       "1          11       1.41        8.07     -94.4                 3   \n",
       "2          11       1.42        8.07     -94.4                 3   \n",
       "3          12       1.48        8.05     -94.4                 3   \n",
       "\n",
       "   gyros_belt_x  gyros_belt_y  gyros_belt_z  accel_belt_x  accel_belt_y  \\\n",
       "0          0.00           0.0         -0.02           -21             4   \n",
       "1          0.02           0.0         -0.02           -22             4   \n",
       "2          0.00           0.0         -0.02           -20             5   \n",
       "3          0.02           0.0         -0.03           -22             3   \n",
       "\n",
       "    ...    total_accel_forearm  gyros_forearm_y  gyros_forearm_z  \\\n",
       "0   ...                     36             0.00            -0.02   \n",
       "1   ...                     36             0.00            -0.02   \n",
       "2   ...                     36            -0.02             0.00   \n",
       "3   ...                     36            -0.02             0.00   \n",
       "\n",
       "   accel_forearm_x  accel_forearm_y  accel_forearm_z  magnet_forearm_x  \\\n",
       "0              192              203             -215               -17   \n",
       "1              192              203             -216               -18   \n",
       "2              196              204             -213               -18   \n",
       "3              189              206             -214               -16   \n",
       "\n",
       "   magnet_forearm_y  magnet_forearm_z  classe  \n",
       "0             654.0             476.0       A  \n",
       "1             661.0             473.0       A  \n",
       "2             658.0             469.0       A  \n",
       "3             658.0             469.0       A  \n",
       "\n",
       "[4 rows x 53 columns]"
      ]
     },
     "execution_count": 224,
     "metadata": {},
     "output_type": "execute_result"
    }
   ],
   "source": [
    "tr.head(4)"
   ]
  },
  {
   "cell_type": "code",
   "execution_count": 225,
   "metadata": {},
   "outputs": [
    {
     "data": {
      "text/html": [
       "<div>\n",
       "<style scoped>\n",
       "    .dataframe tbody tr th:only-of-type {\n",
       "        vertical-align: middle;\n",
       "    }\n",
       "\n",
       "    .dataframe tbody tr th {\n",
       "        vertical-align: top;\n",
       "    }\n",
       "\n",
       "    .dataframe thead th {\n",
       "        text-align: right;\n",
       "    }\n",
       "</style>\n",
       "<table border=\"1\" class=\"dataframe\">\n",
       "  <thead>\n",
       "    <tr style=\"text-align: right;\">\n",
       "      <th></th>\n",
       "      <th>num_window</th>\n",
       "      <th>roll_belt</th>\n",
       "      <th>pitch_belt</th>\n",
       "      <th>yaw_belt</th>\n",
       "      <th>total_accel_belt</th>\n",
       "      <th>gyros_belt_x</th>\n",
       "      <th>gyros_belt_y</th>\n",
       "      <th>gyros_belt_z</th>\n",
       "      <th>accel_belt_x</th>\n",
       "      <th>accel_belt_y</th>\n",
       "      <th>...</th>\n",
       "      <th>yaw_forearm</th>\n",
       "      <th>total_accel_forearm</th>\n",
       "      <th>gyros_forearm_y</th>\n",
       "      <th>gyros_forearm_z</th>\n",
       "      <th>accel_forearm_x</th>\n",
       "      <th>accel_forearm_y</th>\n",
       "      <th>accel_forearm_z</th>\n",
       "      <th>magnet_forearm_x</th>\n",
       "      <th>magnet_forearm_y</th>\n",
       "      <th>magnet_forearm_z</th>\n",
       "    </tr>\n",
       "  </thead>\n",
       "  <tbody>\n",
       "    <tr>\n",
       "      <th>count</th>\n",
       "      <td>20.000000</td>\n",
       "      <td>20.000000</td>\n",
       "      <td>20.000000</td>\n",
       "      <td>20.000000</td>\n",
       "      <td>20.000000</td>\n",
       "      <td>20.000000</td>\n",
       "      <td>20.000000</td>\n",
       "      <td>20.000000</td>\n",
       "      <td>20.000000</td>\n",
       "      <td>20.000000</td>\n",
       "      <td>...</td>\n",
       "      <td>20.000000</td>\n",
       "      <td>20.000000</td>\n",
       "      <td>20.000000</td>\n",
       "      <td>20.000000</td>\n",
       "      <td>20.000000</td>\n",
       "      <td>20.00000</td>\n",
       "      <td>20.000000</td>\n",
       "      <td>20.000000</td>\n",
       "      <td>20.000000</td>\n",
       "      <td>20.000000</td>\n",
       "    </tr>\n",
       "    <tr>\n",
       "      <th>mean</th>\n",
       "      <td>379.550000</td>\n",
       "      <td>31.305500</td>\n",
       "      <td>5.824000</td>\n",
       "      <td>-59.299500</td>\n",
       "      <td>7.550000</td>\n",
       "      <td>-0.045000</td>\n",
       "      <td>0.010000</td>\n",
       "      <td>-0.100500</td>\n",
       "      <td>-13.500000</td>\n",
       "      <td>18.350000</td>\n",
       "      <td>...</td>\n",
       "      <td>2.195000</td>\n",
       "      <td>32.050000</td>\n",
       "      <td>-0.041500</td>\n",
       "      <td>0.261000</td>\n",
       "      <td>38.800000</td>\n",
       "      <td>125.30000</td>\n",
       "      <td>-93.700000</td>\n",
       "      <td>-159.250000</td>\n",
       "      <td>191.750000</td>\n",
       "      <td>460.250000</td>\n",
       "    </tr>\n",
       "    <tr>\n",
       "      <th>std</th>\n",
       "      <td>218.549639</td>\n",
       "      <td>54.288156</td>\n",
       "      <td>14.586447</td>\n",
       "      <td>62.433525</td>\n",
       "      <td>6.863136</td>\n",
       "      <td>0.196134</td>\n",
       "      <td>0.039736</td>\n",
       "      <td>0.167253</td>\n",
       "      <td>19.808292</td>\n",
       "      <td>27.992997</td>\n",
       "      <td>...</td>\n",
       "      <td>114.057458</td>\n",
       "      <td>8.357001</td>\n",
       "      <td>2.872582</td>\n",
       "      <td>0.790116</td>\n",
       "      <td>156.973883</td>\n",
       "      <td>190.50987</td>\n",
       "      <td>149.202829</td>\n",
       "      <td>362.278735</td>\n",
       "      <td>619.345399</td>\n",
       "      <td>282.131898</td>\n",
       "    </tr>\n",
       "    <tr>\n",
       "      <th>min</th>\n",
       "      <td>48.000000</td>\n",
       "      <td>-5.920000</td>\n",
       "      <td>-41.600000</td>\n",
       "      <td>-93.700000</td>\n",
       "      <td>2.000000</td>\n",
       "      <td>-0.500000</td>\n",
       "      <td>-0.050000</td>\n",
       "      <td>-0.480000</td>\n",
       "      <td>-48.000000</td>\n",
       "      <td>-16.000000</td>\n",
       "      <td>...</td>\n",
       "      <td>-168.000000</td>\n",
       "      <td>21.000000</td>\n",
       "      <td>-5.970000</td>\n",
       "      <td>-1.260000</td>\n",
       "      <td>-212.000000</td>\n",
       "      <td>-331.00000</td>\n",
       "      <td>-282.000000</td>\n",
       "      <td>-714.000000</td>\n",
       "      <td>-787.000000</td>\n",
       "      <td>-32.000000</td>\n",
       "    </tr>\n",
       "    <tr>\n",
       "      <th>25%</th>\n",
       "      <td>250.000000</td>\n",
       "      <td>0.907500</td>\n",
       "      <td>3.012500</td>\n",
       "      <td>-88.625000</td>\n",
       "      <td>3.000000</td>\n",
       "      <td>-0.070000</td>\n",
       "      <td>-0.005000</td>\n",
       "      <td>-0.137500</td>\n",
       "      <td>-19.000000</td>\n",
       "      <td>2.000000</td>\n",
       "      <td>...</td>\n",
       "      <td>-93.375000</td>\n",
       "      <td>24.000000</td>\n",
       "      <td>-1.287500</td>\n",
       "      <td>-0.097500</td>\n",
       "      <td>-114.750000</td>\n",
       "      <td>8.50000</td>\n",
       "      <td>-199.000000</td>\n",
       "      <td>-427.250000</td>\n",
       "      <td>-328.750000</td>\n",
       "      <td>275.250000</td>\n",
       "    </tr>\n",
       "    <tr>\n",
       "      <th>50%</th>\n",
       "      <td>384.500000</td>\n",
       "      <td>1.110000</td>\n",
       "      <td>4.655000</td>\n",
       "      <td>-87.850000</td>\n",
       "      <td>4.000000</td>\n",
       "      <td>0.020000</td>\n",
       "      <td>0.000000</td>\n",
       "      <td>-0.025000</td>\n",
       "      <td>-13.000000</td>\n",
       "      <td>4.500000</td>\n",
       "      <td>...</td>\n",
       "      <td>-19.250000</td>\n",
       "      <td>32.500000</td>\n",
       "      <td>0.035000</td>\n",
       "      <td>0.230000</td>\n",
       "      <td>86.000000</td>\n",
       "      <td>138.00000</td>\n",
       "      <td>-148.500000</td>\n",
       "      <td>-189.500000</td>\n",
       "      <td>487.000000</td>\n",
       "      <td>491.500000</td>\n",
       "    </tr>\n",
       "    <tr>\n",
       "      <th>75%</th>\n",
       "      <td>467.000000</td>\n",
       "      <td>32.505000</td>\n",
       "      <td>6.135000</td>\n",
       "      <td>-63.500000</td>\n",
       "      <td>8.000000</td>\n",
       "      <td>0.070000</td>\n",
       "      <td>0.020000</td>\n",
       "      <td>0.000000</td>\n",
       "      <td>-8.750000</td>\n",
       "      <td>25.500000</td>\n",
       "      <td>...</td>\n",
       "      <td>104.500000</td>\n",
       "      <td>36.750000</td>\n",
       "      <td>2.047500</td>\n",
       "      <td>0.762500</td>\n",
       "      <td>166.250000</td>\n",
       "      <td>268.00000</td>\n",
       "      <td>-31.000000</td>\n",
       "      <td>41.500000</td>\n",
       "      <td>720.750000</td>\n",
       "      <td>661.500000</td>\n",
       "    </tr>\n",
       "    <tr>\n",
       "      <th>max</th>\n",
       "      <td>859.000000</td>\n",
       "      <td>129.000000</td>\n",
       "      <td>27.800000</td>\n",
       "      <td>162.000000</td>\n",
       "      <td>21.000000</td>\n",
       "      <td>0.240000</td>\n",
       "      <td>0.110000</td>\n",
       "      <td>0.050000</td>\n",
       "      <td>46.000000</td>\n",
       "      <td>72.000000</td>\n",
       "      <td>...</td>\n",
       "      <td>159.000000</td>\n",
       "      <td>47.000000</td>\n",
       "      <td>4.260000</td>\n",
       "      <td>1.800000</td>\n",
       "      <td>232.000000</td>\n",
       "      <td>406.00000</td>\n",
       "      <td>179.000000</td>\n",
       "      <td>532.000000</td>\n",
       "      <td>800.000000</td>\n",
       "      <td>884.000000</td>\n",
       "    </tr>\n",
       "  </tbody>\n",
       "</table>\n",
       "<p>8 rows × 52 columns</p>\n",
       "</div>"
      ],
      "text/plain": [
       "       num_window   roll_belt  pitch_belt    yaw_belt  total_accel_belt  \\\n",
       "count   20.000000   20.000000   20.000000   20.000000         20.000000   \n",
       "mean   379.550000   31.305500    5.824000  -59.299500          7.550000   \n",
       "std    218.549639   54.288156   14.586447   62.433525          6.863136   \n",
       "min     48.000000   -5.920000  -41.600000  -93.700000          2.000000   \n",
       "25%    250.000000    0.907500    3.012500  -88.625000          3.000000   \n",
       "50%    384.500000    1.110000    4.655000  -87.850000          4.000000   \n",
       "75%    467.000000   32.505000    6.135000  -63.500000          8.000000   \n",
       "max    859.000000  129.000000   27.800000  162.000000         21.000000   \n",
       "\n",
       "       gyros_belt_x  gyros_belt_y  gyros_belt_z  accel_belt_x  accel_belt_y  \\\n",
       "count     20.000000     20.000000     20.000000     20.000000     20.000000   \n",
       "mean      -0.045000      0.010000     -0.100500    -13.500000     18.350000   \n",
       "std        0.196134      0.039736      0.167253     19.808292     27.992997   \n",
       "min       -0.500000     -0.050000     -0.480000    -48.000000    -16.000000   \n",
       "25%       -0.070000     -0.005000     -0.137500    -19.000000      2.000000   \n",
       "50%        0.020000      0.000000     -0.025000    -13.000000      4.500000   \n",
       "75%        0.070000      0.020000      0.000000     -8.750000     25.500000   \n",
       "max        0.240000      0.110000      0.050000     46.000000     72.000000   \n",
       "\n",
       "             ...         yaw_forearm  total_accel_forearm  gyros_forearm_y  \\\n",
       "count        ...           20.000000            20.000000        20.000000   \n",
       "mean         ...            2.195000            32.050000        -0.041500   \n",
       "std          ...          114.057458             8.357001         2.872582   \n",
       "min          ...         -168.000000            21.000000        -5.970000   \n",
       "25%          ...          -93.375000            24.000000        -1.287500   \n",
       "50%          ...          -19.250000            32.500000         0.035000   \n",
       "75%          ...          104.500000            36.750000         2.047500   \n",
       "max          ...          159.000000            47.000000         4.260000   \n",
       "\n",
       "       gyros_forearm_z  accel_forearm_x  accel_forearm_y  accel_forearm_z  \\\n",
       "count        20.000000        20.000000         20.00000        20.000000   \n",
       "mean          0.261000        38.800000        125.30000       -93.700000   \n",
       "std           0.790116       156.973883        190.50987       149.202829   \n",
       "min          -1.260000      -212.000000       -331.00000      -282.000000   \n",
       "25%          -0.097500      -114.750000          8.50000      -199.000000   \n",
       "50%           0.230000        86.000000        138.00000      -148.500000   \n",
       "75%           0.762500       166.250000        268.00000       -31.000000   \n",
       "max           1.800000       232.000000        406.00000       179.000000   \n",
       "\n",
       "       magnet_forearm_x  magnet_forearm_y  magnet_forearm_z  \n",
       "count         20.000000         20.000000         20.000000  \n",
       "mean        -159.250000        191.750000        460.250000  \n",
       "std          362.278735        619.345399        282.131898  \n",
       "min         -714.000000       -787.000000        -32.000000  \n",
       "25%         -427.250000       -328.750000        275.250000  \n",
       "50%         -189.500000        487.000000        491.500000  \n",
       "75%           41.500000        720.750000        661.500000  \n",
       "max          532.000000        800.000000        884.000000  \n",
       "\n",
       "[8 rows x 52 columns]"
      ]
     },
     "execution_count": 225,
     "metadata": {},
     "output_type": "execute_result"
    }
   ],
   "source": [
    "ts.describe()"
   ]
  },
  {
   "cell_type": "code",
   "execution_count": 226,
   "metadata": {},
   "outputs": [
    {
     "data": {
      "text/html": [
       "<div>\n",
       "<style scoped>\n",
       "    .dataframe tbody tr th:only-of-type {\n",
       "        vertical-align: middle;\n",
       "    }\n",
       "\n",
       "    .dataframe tbody tr th {\n",
       "        vertical-align: top;\n",
       "    }\n",
       "\n",
       "    .dataframe thead th {\n",
       "        text-align: right;\n",
       "    }\n",
       "</style>\n",
       "<table border=\"1\" class=\"dataframe\">\n",
       "  <thead>\n",
       "    <tr style=\"text-align: right;\">\n",
       "      <th></th>\n",
       "      <th>num_window</th>\n",
       "      <th>roll_belt</th>\n",
       "      <th>pitch_belt</th>\n",
       "      <th>yaw_belt</th>\n",
       "      <th>total_accel_belt</th>\n",
       "      <th>gyros_belt_x</th>\n",
       "      <th>gyros_belt_y</th>\n",
       "      <th>gyros_belt_z</th>\n",
       "      <th>accel_belt_x</th>\n",
       "      <th>accel_belt_y</th>\n",
       "      <th>...</th>\n",
       "      <th>yaw_forearm</th>\n",
       "      <th>total_accel_forearm</th>\n",
       "      <th>gyros_forearm_y</th>\n",
       "      <th>gyros_forearm_z</th>\n",
       "      <th>accel_forearm_x</th>\n",
       "      <th>accel_forearm_y</th>\n",
       "      <th>accel_forearm_z</th>\n",
       "      <th>magnet_forearm_x</th>\n",
       "      <th>magnet_forearm_y</th>\n",
       "      <th>magnet_forearm_z</th>\n",
       "    </tr>\n",
       "  </thead>\n",
       "  <tbody>\n",
       "    <tr>\n",
       "      <th>count</th>\n",
       "      <td>19622.000000</td>\n",
       "      <td>19622.000000</td>\n",
       "      <td>19622.000000</td>\n",
       "      <td>19622.000000</td>\n",
       "      <td>19622.000000</td>\n",
       "      <td>19622.000000</td>\n",
       "      <td>19622.000000</td>\n",
       "      <td>19622.000000</td>\n",
       "      <td>19622.000000</td>\n",
       "      <td>19622.000000</td>\n",
       "      <td>...</td>\n",
       "      <td>19622.000000</td>\n",
       "      <td>19622.000000</td>\n",
       "      <td>19622.000000</td>\n",
       "      <td>19622.000000</td>\n",
       "      <td>19622.000000</td>\n",
       "      <td>19622.000000</td>\n",
       "      <td>19622.000000</td>\n",
       "      <td>19622.000000</td>\n",
       "      <td>19622.000000</td>\n",
       "      <td>19622.000000</td>\n",
       "    </tr>\n",
       "    <tr>\n",
       "      <th>mean</th>\n",
       "      <td>430.640047</td>\n",
       "      <td>64.407197</td>\n",
       "      <td>0.305283</td>\n",
       "      <td>-11.205061</td>\n",
       "      <td>11.312608</td>\n",
       "      <td>-0.005592</td>\n",
       "      <td>0.039588</td>\n",
       "      <td>-0.130538</td>\n",
       "      <td>-5.594690</td>\n",
       "      <td>30.154877</td>\n",
       "      <td>...</td>\n",
       "      <td>19.207633</td>\n",
       "      <td>34.715320</td>\n",
       "      <td>0.075175</td>\n",
       "      <td>0.151245</td>\n",
       "      <td>-61.651819</td>\n",
       "      <td>163.655896</td>\n",
       "      <td>-55.291917</td>\n",
       "      <td>-312.575884</td>\n",
       "      <td>380.116445</td>\n",
       "      <td>393.613745</td>\n",
       "    </tr>\n",
       "    <tr>\n",
       "      <th>std</th>\n",
       "      <td>247.909554</td>\n",
       "      <td>62.750255</td>\n",
       "      <td>22.351242</td>\n",
       "      <td>95.193926</td>\n",
       "      <td>7.742309</td>\n",
       "      <td>0.207329</td>\n",
       "      <td>0.078236</td>\n",
       "      <td>0.241321</td>\n",
       "      <td>29.644785</td>\n",
       "      <td>28.577835</td>\n",
       "      <td>...</td>\n",
       "      <td>103.219156</td>\n",
       "      <td>10.055956</td>\n",
       "      <td>3.100725</td>\n",
       "      <td>1.754483</td>\n",
       "      <td>180.593687</td>\n",
       "      <td>200.130082</td>\n",
       "      <td>138.396947</td>\n",
       "      <td>346.958482</td>\n",
       "      <td>509.373742</td>\n",
       "      <td>369.268747</td>\n",
       "    </tr>\n",
       "    <tr>\n",
       "      <th>min</th>\n",
       "      <td>1.000000</td>\n",
       "      <td>-28.900000</td>\n",
       "      <td>-55.800000</td>\n",
       "      <td>-180.000000</td>\n",
       "      <td>0.000000</td>\n",
       "      <td>-1.040000</td>\n",
       "      <td>-0.640000</td>\n",
       "      <td>-1.460000</td>\n",
       "      <td>-120.000000</td>\n",
       "      <td>-69.000000</td>\n",
       "      <td>...</td>\n",
       "      <td>-180.000000</td>\n",
       "      <td>0.000000</td>\n",
       "      <td>-7.020000</td>\n",
       "      <td>-8.090000</td>\n",
       "      <td>-498.000000</td>\n",
       "      <td>-632.000000</td>\n",
       "      <td>-446.000000</td>\n",
       "      <td>-1280.000000</td>\n",
       "      <td>-896.000000</td>\n",
       "      <td>-973.000000</td>\n",
       "    </tr>\n",
       "    <tr>\n",
       "      <th>25%</th>\n",
       "      <td>222.000000</td>\n",
       "      <td>1.100000</td>\n",
       "      <td>1.760000</td>\n",
       "      <td>-88.300000</td>\n",
       "      <td>3.000000</td>\n",
       "      <td>-0.030000</td>\n",
       "      <td>0.000000</td>\n",
       "      <td>-0.200000</td>\n",
       "      <td>-21.000000</td>\n",
       "      <td>3.000000</td>\n",
       "      <td>...</td>\n",
       "      <td>-68.600000</td>\n",
       "      <td>29.000000</td>\n",
       "      <td>-1.460000</td>\n",
       "      <td>-0.180000</td>\n",
       "      <td>-178.000000</td>\n",
       "      <td>57.000000</td>\n",
       "      <td>-182.000000</td>\n",
       "      <td>-616.000000</td>\n",
       "      <td>2.000000</td>\n",
       "      <td>191.000000</td>\n",
       "    </tr>\n",
       "    <tr>\n",
       "      <th>50%</th>\n",
       "      <td>424.000000</td>\n",
       "      <td>113.000000</td>\n",
       "      <td>5.280000</td>\n",
       "      <td>-13.000000</td>\n",
       "      <td>17.000000</td>\n",
       "      <td>0.030000</td>\n",
       "      <td>0.020000</td>\n",
       "      <td>-0.100000</td>\n",
       "      <td>-15.000000</td>\n",
       "      <td>35.000000</td>\n",
       "      <td>...</td>\n",
       "      <td>0.000000</td>\n",
       "      <td>36.000000</td>\n",
       "      <td>0.030000</td>\n",
       "      <td>0.080000</td>\n",
       "      <td>-57.000000</td>\n",
       "      <td>201.000000</td>\n",
       "      <td>-39.000000</td>\n",
       "      <td>-378.000000</td>\n",
       "      <td>591.000000</td>\n",
       "      <td>511.000000</td>\n",
       "    </tr>\n",
       "    <tr>\n",
       "      <th>75%</th>\n",
       "      <td>644.000000</td>\n",
       "      <td>123.000000</td>\n",
       "      <td>14.900000</td>\n",
       "      <td>12.900000</td>\n",
       "      <td>18.000000</td>\n",
       "      <td>0.110000</td>\n",
       "      <td>0.110000</td>\n",
       "      <td>-0.020000</td>\n",
       "      <td>-5.000000</td>\n",
       "      <td>61.000000</td>\n",
       "      <td>...</td>\n",
       "      <td>110.000000</td>\n",
       "      <td>41.000000</td>\n",
       "      <td>1.620000</td>\n",
       "      <td>0.490000</td>\n",
       "      <td>76.000000</td>\n",
       "      <td>312.000000</td>\n",
       "      <td>26.000000</td>\n",
       "      <td>-73.000000</td>\n",
       "      <td>737.000000</td>\n",
       "      <td>653.000000</td>\n",
       "    </tr>\n",
       "    <tr>\n",
       "      <th>max</th>\n",
       "      <td>864.000000</td>\n",
       "      <td>162.000000</td>\n",
       "      <td>60.300000</td>\n",
       "      <td>179.000000</td>\n",
       "      <td>29.000000</td>\n",
       "      <td>2.220000</td>\n",
       "      <td>0.640000</td>\n",
       "      <td>1.620000</td>\n",
       "      <td>85.000000</td>\n",
       "      <td>164.000000</td>\n",
       "      <td>...</td>\n",
       "      <td>180.000000</td>\n",
       "      <td>108.000000</td>\n",
       "      <td>311.000000</td>\n",
       "      <td>231.000000</td>\n",
       "      <td>477.000000</td>\n",
       "      <td>923.000000</td>\n",
       "      <td>291.000000</td>\n",
       "      <td>672.000000</td>\n",
       "      <td>1480.000000</td>\n",
       "      <td>1090.000000</td>\n",
       "    </tr>\n",
       "  </tbody>\n",
       "</table>\n",
       "<p>8 rows × 52 columns</p>\n",
       "</div>"
      ],
      "text/plain": [
       "         num_window     roll_belt    pitch_belt      yaw_belt  \\\n",
       "count  19622.000000  19622.000000  19622.000000  19622.000000   \n",
       "mean     430.640047     64.407197      0.305283    -11.205061   \n",
       "std      247.909554     62.750255     22.351242     95.193926   \n",
       "min        1.000000    -28.900000    -55.800000   -180.000000   \n",
       "25%      222.000000      1.100000      1.760000    -88.300000   \n",
       "50%      424.000000    113.000000      5.280000    -13.000000   \n",
       "75%      644.000000    123.000000     14.900000     12.900000   \n",
       "max      864.000000    162.000000     60.300000    179.000000   \n",
       "\n",
       "       total_accel_belt  gyros_belt_x  gyros_belt_y  gyros_belt_z  \\\n",
       "count      19622.000000  19622.000000  19622.000000  19622.000000   \n",
       "mean          11.312608     -0.005592      0.039588     -0.130538   \n",
       "std            7.742309      0.207329      0.078236      0.241321   \n",
       "min            0.000000     -1.040000     -0.640000     -1.460000   \n",
       "25%            3.000000     -0.030000      0.000000     -0.200000   \n",
       "50%           17.000000      0.030000      0.020000     -0.100000   \n",
       "75%           18.000000      0.110000      0.110000     -0.020000   \n",
       "max           29.000000      2.220000      0.640000      1.620000   \n",
       "\n",
       "       accel_belt_x  accel_belt_y        ...          yaw_forearm  \\\n",
       "count  19622.000000  19622.000000        ...         19622.000000   \n",
       "mean      -5.594690     30.154877        ...            19.207633   \n",
       "std       29.644785     28.577835        ...           103.219156   \n",
       "min     -120.000000    -69.000000        ...          -180.000000   \n",
       "25%      -21.000000      3.000000        ...           -68.600000   \n",
       "50%      -15.000000     35.000000        ...             0.000000   \n",
       "75%       -5.000000     61.000000        ...           110.000000   \n",
       "max       85.000000    164.000000        ...           180.000000   \n",
       "\n",
       "       total_accel_forearm  gyros_forearm_y  gyros_forearm_z  accel_forearm_x  \\\n",
       "count         19622.000000     19622.000000     19622.000000     19622.000000   \n",
       "mean             34.715320         0.075175         0.151245       -61.651819   \n",
       "std              10.055956         3.100725         1.754483       180.593687   \n",
       "min               0.000000        -7.020000        -8.090000      -498.000000   \n",
       "25%              29.000000        -1.460000        -0.180000      -178.000000   \n",
       "50%              36.000000         0.030000         0.080000       -57.000000   \n",
       "75%              41.000000         1.620000         0.490000        76.000000   \n",
       "max             108.000000       311.000000       231.000000       477.000000   \n",
       "\n",
       "       accel_forearm_y  accel_forearm_z  magnet_forearm_x  magnet_forearm_y  \\\n",
       "count     19622.000000     19622.000000      19622.000000      19622.000000   \n",
       "mean        163.655896       -55.291917       -312.575884        380.116445   \n",
       "std         200.130082       138.396947        346.958482        509.373742   \n",
       "min        -632.000000      -446.000000      -1280.000000       -896.000000   \n",
       "25%          57.000000      -182.000000       -616.000000          2.000000   \n",
       "50%         201.000000       -39.000000       -378.000000        591.000000   \n",
       "75%         312.000000        26.000000        -73.000000        737.000000   \n",
       "max         923.000000       291.000000        672.000000       1480.000000   \n",
       "\n",
       "       magnet_forearm_z  \n",
       "count      19622.000000  \n",
       "mean         393.613745  \n",
       "std          369.268747  \n",
       "min         -973.000000  \n",
       "25%          191.000000  \n",
       "50%          511.000000  \n",
       "75%          653.000000  \n",
       "max         1090.000000  \n",
       "\n",
       "[8 rows x 52 columns]"
      ]
     },
     "execution_count": 226,
     "metadata": {},
     "output_type": "execute_result"
    }
   ],
   "source": [
    "tr.describe()"
   ]
  },
  {
   "cell_type": "code",
   "execution_count": 227,
   "metadata": {},
   "outputs": [
    {
     "data": {
      "text/plain": [
       "(20, 52)"
      ]
     },
     "execution_count": 227,
     "metadata": {},
     "output_type": "execute_result"
    }
   ],
   "source": [
    "ts.shape"
   ]
  },
  {
   "cell_type": "code",
   "execution_count": 228,
   "metadata": {},
   "outputs": [
    {
     "data": {
      "text/plain": [
       "(19622, 53)"
      ]
     },
     "execution_count": 228,
     "metadata": {},
     "output_type": "execute_result"
    }
   ],
   "source": [
    "tr.shape"
   ]
  },
  {
   "cell_type": "code",
   "execution_count": 231,
   "metadata": {},
   "outputs": [
    {
     "data": {
      "text/plain": [
       "array([[  11.  ,    1.41,    8.07, ...,  -17.  ,  654.  ,  476.  ],\n",
       "       [  11.  ,    1.41,    8.07, ...,  -18.  ,  661.  ,  473.  ],\n",
       "       [  11.  ,    1.42,    8.07, ...,  -18.  ,  658.  ,  469.  ],\n",
       "       ...,\n",
       "       [ 864.  ,  145.  ,  -35.5 , ..., -116.  , -654.  ,  -70.  ],\n",
       "       [ 864.  ,  143.  ,  -35.9 , ...,  -68.  , -678.  ,  -98.  ],\n",
       "       [ 864.  ,  143.  ,  -36.  , ...,  -60.  , -686.  , -110.  ]])"
      ]
     },
     "execution_count": 231,
     "metadata": {},
     "output_type": "execute_result"
    }
   ],
   "source": [
    "# dividing data into attributes and labels\n",
    "X = tr.iloc[:,:52].values      # last column is 'class' column which is labelled.\n",
    "X"
   ]
  },
  {
   "cell_type": "code",
   "execution_count": 232,
   "metadata": {},
   "outputs": [
    {
     "data": {
      "text/plain": [
       "array(['A', 'A', 'A', ..., 'E', 'E', 'E'], dtype=object)"
      ]
     },
     "execution_count": 232,
     "metadata": {},
     "output_type": "execute_result"
    }
   ],
   "source": [
    "Y = tr['classe'].values\n",
    "Y"
   ]
  },
  {
   "cell_type": "code",
   "execution_count": 233,
   "metadata": {},
   "outputs": [],
   "source": [
    "# importing necessary libraries\n",
    "# Training and testing sets\n",
    "from sklearn.model_selection import train_test_split"
   ]
  },
  {
   "cell_type": "code",
   "execution_count": 234,
   "metadata": {},
   "outputs": [],
   "source": [
    "# importing library for classification\n",
    "\n",
    "from sklearn.tree import DecisionTreeClassifier"
   ]
  },
  {
   "cell_type": "code",
   "execution_count": 218,
   "metadata": {},
   "outputs": [],
   "source": [
    "DT = DecisionTreeClassifier()"
   ]
  },
  {
   "cell_type": "code",
   "execution_count": 235,
   "metadata": {},
   "outputs": [],
   "source": [
    "X_train, X_test, Y_train, Y_test = train_test_split(X, Y, test_size=0.2, random_state=0)"
   ]
  },
  {
   "cell_type": "code",
   "execution_count": 236,
   "metadata": {},
   "outputs": [
    {
     "data": {
      "text/plain": [
       "DecisionTreeClassifier(class_weight=None, criterion='gini', max_depth=None,\n",
       "            max_features=None, max_leaf_nodes=None,\n",
       "            min_impurity_decrease=0.0, min_impurity_split=None,\n",
       "            min_samples_leaf=1, min_samples_split=2,\n",
       "            min_weight_fraction_leaf=0.0, presort=False, random_state=None,\n",
       "            splitter='best')"
      ]
     },
     "execution_count": 236,
     "metadata": {},
     "output_type": "execute_result"
    }
   ],
   "source": [
    "DT.fit(X_train, Y_train)"
   ]
  },
  {
   "cell_type": "code",
   "execution_count": 237,
   "metadata": {},
   "outputs": [],
   "source": [
    "Y_pred = DT.predict(X_test)"
   ]
  },
  {
   "cell_type": "code",
   "execution_count": 239,
   "metadata": {},
   "outputs": [
    {
     "name": "stdout",
     "output_type": "stream",
     "text": [
      "['C' 'C' 'B' ... 'D' 'D' 'D']\n"
     ]
    }
   ],
   "source": [
    "print(Y_pred)\n",
    "#print(X_test)"
   ]
  },
  {
   "cell_type": "code",
   "execution_count": 240,
   "metadata": {},
   "outputs": [
    {
     "name": "stdout",
     "output_type": "stream",
     "text": [
      "['C' 'C' 'B' ... 'D' 'D' 'D']\n"
     ]
    }
   ],
   "source": [
    "print(Y_test)"
   ]
  },
  {
   "cell_type": "code",
   "execution_count": 241,
   "metadata": {},
   "outputs": [
    {
     "data": {
      "text/plain": [
       "0.9765605095541401"
      ]
     },
     "execution_count": 241,
     "metadata": {},
     "output_type": "execute_result"
    }
   ],
   "source": [
    "metrics.accuracy_score(Y_test, Y_pred)"
   ]
  },
  {
   "cell_type": "code",
   "execution_count": 138,
   "metadata": {},
   "outputs": [],
   "source": [
    "# test data "
   ]
  },
  {
   "cell_type": "code",
   "execution_count": 242,
   "metadata": {},
   "outputs": [],
   "source": [
    "ts_v = ts.values"
   ]
  },
  {
   "cell_type": "code",
   "execution_count": 243,
   "metadata": {},
   "outputs": [
    {
     "data": {
      "text/plain": [
       "array([[ 7.40e+01,  1.23e+02,  2.70e+01, ..., -7.14e+02,  4.19e+02,\n",
       "         6.17e+02],\n",
       "       [ 4.31e+02,  1.02e+00,  4.87e+00, ..., -2.37e+02,  7.91e+02,\n",
       "         8.73e+02],\n",
       "       [ 4.39e+02,  8.70e-01,  1.82e+00, ..., -5.10e+01,  6.98e+02,\n",
       "         7.83e+02],\n",
       "       ...,\n",
       "       [ 3.61e+02,  9.20e-01,  5.31e+00, ..., -5.00e+02, -2.32e+02,\n",
       "         3.29e+02],\n",
       "       [ 7.20e+01,  1.23e+02,  2.67e+01, ..., -6.14e+02, -4.60e+01,\n",
       "         4.71e+02],\n",
       "       [ 2.55e+02,  1.40e+00,  3.20e+00, ...,  7.00e+01, -7.03e+02,\n",
       "         7.40e+01]])"
      ]
     },
     "execution_count": 243,
     "metadata": {},
     "output_type": "execute_result"
    }
   ],
   "source": [
    "ts_v"
   ]
  },
  {
   "cell_type": "code",
   "execution_count": 244,
   "metadata": {},
   "outputs": [],
   "source": [
    "y_pred_assign = DT.predict(ts)"
   ]
  },
  {
   "cell_type": "code",
   "execution_count": 245,
   "metadata": {},
   "outputs": [
    {
     "data": {
      "text/plain": [
       "array(['B', 'A', 'B', 'A', 'A', 'E', 'D', 'B', 'A', 'A', 'B', 'C', 'B',\n",
       "       'A', 'E', 'E', 'A', 'B', 'B', 'B'], dtype=object)"
      ]
     },
     "execution_count": 245,
     "metadata": {},
     "output_type": "execute_result"
    }
   ],
   "source": [
    "y_pred_assign"
   ]
  },
  {
   "cell_type": "code",
   "execution_count": 252,
   "metadata": {},
   "outputs": [],
   "source": [
    "# building confusion matrix\n",
    "from sklearn.metrics import confusion_matrix\n",
    "from sklearn.metrics import accuracy_score \n",
    "from sklearn.metrics import classification_report "
   ]
  },
  {
   "cell_type": "code",
   "execution_count": 255,
   "metadata": {},
   "outputs": [
    {
     "data": {
      "text/plain": [
       "array([[1073,    6,    0,    1,    1],\n",
       "       [  13,  746,    9,    7,    0],\n",
       "       [   2,   11,  655,    9,    0],\n",
       "       [   0,    3,   13,  626,    5],\n",
       "       [   1,    4,    2,    5,  733]], dtype=int64)"
      ]
     },
     "execution_count": 255,
     "metadata": {},
     "output_type": "execute_result"
    }
   ],
   "source": [
    "confusion_matrix(Y_test, Y_pred)"
   ]
  },
  {
   "cell_type": "code",
   "execution_count": 257,
   "metadata": {},
   "outputs": [
    {
     "data": {
      "text/plain": [
       "0.9765605095541401"
      ]
     },
     "execution_count": 257,
     "metadata": {},
     "output_type": "execute_result"
    }
   ],
   "source": [
    "accuracy_score(Y_test, Y_pred)           # which means we got a 97.65% of accuracy."
   ]
  },
  {
   "cell_type": "code",
   "execution_count": 258,
   "metadata": {},
   "outputs": [
    {
     "data": {
      "text/plain": [
       "'             precision    recall  f1-score   support\\n\\n          A       0.99      0.99      0.99      1081\\n          B       0.97      0.96      0.97       775\\n          C       0.96      0.97      0.97       677\\n          D       0.97      0.97      0.97       647\\n          E       0.99      0.98      0.99       745\\n\\navg / total       0.98      0.98      0.98      3925\\n'"
      ]
     },
     "execution_count": 258,
     "metadata": {},
     "output_type": "execute_result"
    }
   ],
   "source": [
    "classification_report(Y_test, Y_pred)"
   ]
  },
  {
   "cell_type": "code",
   "execution_count": 246,
   "metadata": {},
   "outputs": [],
   "source": [
    "## Applying random forest algorithm"
   ]
  },
  {
   "cell_type": "code",
   "execution_count": 259,
   "metadata": {},
   "outputs": [
    {
     "data": {
      "text/plain": [
       "RandomForestClassifier(bootstrap=True, class_weight=None, criterion='gini',\n",
       "            max_depth=None, max_features='auto', max_leaf_nodes=None,\n",
       "            min_impurity_decrease=0.0, min_impurity_split=None,\n",
       "            min_samples_leaf=1, min_samples_split=2,\n",
       "            min_weight_fraction_leaf=0.0, n_estimators=200, n_jobs=1,\n",
       "            oob_score=False, random_state=1, verbose=0, warm_start=False)"
      ]
     },
     "execution_count": 259,
     "metadata": {},
     "output_type": "execute_result"
    }
   ],
   "source": [
    "#from sklearn.ensemble import RandomForestClassifier\n",
    "\n",
    "RF=RandomForestClassifier(n_estimators=200,random_state=1)\n",
    "RF.fit(X_train,Y_train)"
   ]
  },
  {
   "cell_type": "code",
   "execution_count": 260,
   "metadata": {},
   "outputs": [
    {
     "data": {
      "text/plain": [
       "array(['B', 'A', 'B', 'A', 'A', 'E', 'D', 'B', 'A', 'A', 'B', 'C', 'B',\n",
       "       'A', 'E', 'E', 'A', 'B', 'B', 'B'], dtype=object)"
      ]
     },
     "execution_count": 260,
     "metadata": {},
     "output_type": "execute_result"
    }
   ],
   "source": [
    "DT.predict(ts)"
   ]
  },
  {
   "cell_type": "code",
   "execution_count": 249,
   "metadata": {},
   "outputs": [],
   "source": [
    "##############################################################################################"
   ]
  }
 ],
 "metadata": {
  "kernelspec": {
   "display_name": "Python 3",
   "language": "python",
   "name": "python3"
  },
  "language_info": {
   "codemirror_mode": {
    "name": "ipython",
    "version": 3
   },
   "file_extension": ".py",
   "mimetype": "text/x-python",
   "name": "python",
   "nbconvert_exporter": "python",
   "pygments_lexer": "ipython3",
   "version": "3.7.0"
  }
 },
 "nbformat": 4,
 "nbformat_minor": 2
}
